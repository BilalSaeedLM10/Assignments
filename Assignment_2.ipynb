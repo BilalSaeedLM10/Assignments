{
 "cells": [
  {
   "cell_type": "markdown",
   "metadata": {},
   "source": [
    "<h3>Q no 1:  Write a python program to find number of occurrences of given number in a list with out using built-in methods</h3>\n",
    "<h4>**1 generate a list of some random num which is repeated again and again</h4>\n",
    "<h4>**2 take user input any number</h4>\n",
    "<h4>**3 find the number of occurrences of that num in your list</h4>\n",
    "<h4>**4 print some message to user with that result</h4>"
   ]
  },
  {
   "cell_type": "code",
   "execution_count": 7,
   "metadata": {},
   "outputs": [
    {
     "name": "stdout",
     "output_type": "stream",
     "text": [
      "Enter any number to find number of occurences: 7\n",
      "Number of OCCURENCES:  3\n"
     ]
    }
   ],
   "source": [
    "ls=[2,2,3,4,56,7,7,2,4,7]\n",
    "count=0\n",
    "x=int(input(\"Enter any number to find number of occurences: \"))\n",
    "for a in ls:\n",
    "    if a==x:\n",
    "        count+=1\n",
    "print(\"Number of OCCURENCES: \", count)"
   ]
  },
  {
   "cell_type": "code",
   "execution_count": null,
   "metadata": {
    "collapsed": true
   },
   "outputs": [],
   "source": []
  },
  {
   "cell_type": "markdown",
   "metadata": {},
   "source": [
    "<h3>Q no 2:   [\"www.zframez.com\", \"www.wikipedia.org\", \"www.asp.net\", \"www.abcd.in\"]\n",
    "<br/><br/><br/><br/><br/>\n",
    "Write a python program to print website suffixes (com , org , net ,in) from this list\n",
    "</h3>"
   ]
  },
  {
   "cell_type": "code",
   "execution_count": null,
   "metadata": {
    "collapsed": true
   },
   "outputs": [],
   "source": [
    "\n",
    "    "
   ]
  },
  {
   "cell_type": "code",
   "execution_count": 9,
   "metadata": {},
   "outputs": [
    {
     "name": "stdout",
     "output_type": "stream",
     "text": [
      "com\n",
      "org\n",
      "net\n",
      "in\n"
     ]
    }
   ],
   "source": [
    "suffixes=[\"www.zframez.com\", \"www.wikipedia.org\", \"www.asp.net\", \"www.abcd.in\"] \n",
    "for x in suffixes:\n",
    "    suffixes = x.split(\".\") \n",
    "    print(suffixes[-1])"
   ]
  },
  {
   "cell_type": "markdown",
   "metadata": {},
   "source": [
    "<h3> Q no 3 : Write a program which can compute the factorial of a given numbers.</h3>\n",
    "<br/>\n",
    "<br/>\n",
    "<h4>**1 first take user input any number</h4>\n",
    "<h4>**2 calculate factorial of that input and then print the result to user</h4>"
   ]
  },
  {
   "cell_type": "code",
   "execution_count": 18,
   "metadata": {},
   "outputs": [
    {
     "name": "stdout",
     "output_type": "stream",
     "text": [
      "Enter any number to find factorial : 5\n",
      "120\n"
     ]
    }
   ],
   "source": [
    "inp=int(input(\"Enter any number to find factorial : \"))\n",
    "count=1\n",
    "if inp == 0:\n",
    "    print(\"1\")\n",
    "else:\n",
    "    for i in range(inp):\n",
    "        count = count * (i+1)\n",
    "print(count)\n",
    "      "
   ]
  },
  {
   "cell_type": "markdown",
   "metadata": {},
   "source": []
  },
  {
   "cell_type": "code",
   "execution_count": null,
   "metadata": {
    "collapsed": true
   },
   "outputs": [],
   "source": []
  },
  {
   "cell_type": "code",
   "execution_count": null,
   "metadata": {
    "collapsed": true
   },
   "outputs": [],
   "source": []
  },
  {
   "cell_type": "markdown",
   "metadata": {},
   "source": [
    "#### <h3>Q 4 (a) :  If you could invite anyone, living or deceased, to dinner, who\n",
    "would you invite? Make a list that includes at least three people you’d like to\n",
    "invite to dinner. Then use your list to print a message to each person, inviting\n",
    "them to dinner.\n",
    "\n",
    "\n",
    "\n",
    "¶</h3>"
   ]
  },
  {
   "cell_type": "code",
   "execution_count": 42,
   "metadata": {
    "collapsed": true
   },
   "outputs": [],
   "source": []
  },
  {
   "cell_type": "code",
   "execution_count": 44,
   "metadata": {},
   "outputs": [
    {
     "name": "stdout",
     "output_type": "stream",
     "text": [
      "Madara Your presence will lighten up party man!!! Join us!!\n",
      "Vegeta Come on PRINCE!! Join us on a party!!\n",
      "Byakuya We will be honoured by your presence <3! Join us\n",
      "\n"
     ]
    }
   ],
   "source": [
    "invitation=[\"Madara\",\"Vegeta\",\"Byakuya\"]\n",
    "msg1=invitation[0] + \" Your presence will lighten up party man!!! Join us!!\"\n",
    "msg2=invitation[1] + \" Come on PRINCE!! Join us on a party!!\"\n",
    "msg3=invitation[2] + \" We will be honoured by your presence <3! Join us\"\n",
    "print (msg1)\n",
    "print (msg2)\n",
    "print (msg3)\n",
    "print()\n"
   ]
  },
  {
   "cell_type": "code",
   "execution_count": null,
   "metadata": {
    "collapsed": true
   },
   "outputs": [],
   "source": [
    "#Q 4 (b) : You just heard that one of your guests can’t make the dinner, so you need to send out a new set of invitations. You’ll have to think of someone else to invite.\n",
    "\n",
    "#• Start with your program from Q 4 (a). Add a print statement at the end of your program stating the name of the guest who can’t make it.\n",
    "\n",
    "#• Modify your list, replacing the name of the guest who can’t make it with the name of the new person you are inviting.\n",
    "\n",
    "#• Print a second set of invitation messages, one for each person who is still in your list."
   ]
  },
  {
   "cell_type": "code",
   "execution_count": 25,
   "metadata": {},
   "outputs": [
    {
     "name": "stdout",
     "output_type": "stream",
     "text": [
      "Madara Your presence will lighten up party man!!! Join us!!\n",
      "Vegeta Come on PRINCE!! Join us on a party!!\n",
      "Byakuya We will be honoured by your presence <3! Join us\n",
      "\n",
      "But It seems  like Byakuya Can't make it to the dinner\n",
      "\n",
      "But noo worries, we got another guest here /n Please welcome Mr. !!!!!! Levi\n",
      "\n",
      "Madara Your presence will lighten up party man!!! Join us!!\n",
      "Vegeta Come on PRINCE!! Join us on a party!!\n",
      "Levi !! We will be honoured by your presence <3! Join us\n"
     ]
    }
   ],
   "source": [
    "invitation=[\"Madara\",\"Vegeta\",\"Byakuya\"]\n",
    "msg1=invitation[0] + \" Your presence will lighten up party man!!! Join us!!\"\n",
    "msg2=invitation[1] + \" Come on PRINCE!! Join us on a party!!\"\n",
    "msg3=invitation[2] + \" We will be honoured by your presence <3! Join us\"\n",
    "print (msg1)\n",
    "print (msg2)\n",
    "print (msg3)\n",
    "print()\n",
    "CantMakeIt=\"But It seems  like \" + invitation [2] + \" Can't make it to the dinner\"\n",
    "print(CantMakeIt)\n",
    "invitation.remove(\"Byakuya\")\n",
    "invitation.insert(2,\"Levi\")\n",
    "msg1=invitation[0] + \" Your presence will lighten up party man!!! Join us!!\"\n",
    "msg2=invitation[1] + \" Come on PRINCE!! Join us on a party!!\"\n",
    "msg3=invitation[2] + \" !! We will be honoured by your presence <3! Join us\"\n",
    "print()\n",
    "print(\"But noo worries, we got another guest here /n Please welcome Mr. !!!!!! \" +invitation[2])\n",
    "print()\n",
    "print (msg1)\n",
    "print (msg2)\n",
    "print (msg3)"
   ]
  },
  {
   "cell_type": "markdown",
   "metadata": {},
   "source": [
    "<h3>Q 4 (c) : You just found a bigger dinner table, so now more space is\n",
    "available. Think of three more guests to invite to dinner.<br/></br><br/>\n",
    "•\t Start with your program from Q 4 (a) and (b) Add a print\n",
    "statement to the end of your program informing people that you found a\n",
    "bigger dinner table.<br/></br><br/>\n",
    "•\t Use insert() to add one new guest to the beginning of your list.<br/></br><br/>\n",
    "•\t Use insert() to add one new guest to the middle of your list.<br/></br><br/>\n",
    "•\t Use append() to add one new guest to the end of your list.<br/></br><br/>\n",
    "•\t Print a new set of invitation messages, one for each person in your list.<br/></br><br/></h3>"
   ]
  },
  {
   "cell_type": "code",
   "execution_count": null,
   "metadata": {
    "collapsed": true
   },
   "outputs": [],
   "source": []
  },
  {
   "cell_type": "code",
   "execution_count": 29,
   "metadata": {},
   "outputs": [
    {
     "name": "stdout",
     "output_type": "stream",
     "text": [
      "We would like to inform Mr. Madara, Vegeta and Levi that we even found a bigger table\n",
      "\n",
      "\n",
      "Eren Your presence will lighten up party man!!! Join us!!\n",
      "Madara Come on PRINCE!! Join us on a party!!\n",
      "Vegeta !! We will be honoured by your presence <3! Join us\n",
      "Naruto We will be pleasesed to have a dinner with you!!\n",
      "Levi Its an invitation for you, to have a dinner with us !!\n",
      "Yagami We would love to have you at dinner!\n"
     ]
    }
   ],
   "source": [
    "msg4=\"We would like to inform Mr. \" + invitation[1] + \", \" + invitation[1] + ' and ' + invitation[2] + \" that we even found a bigger table\"\n",
    "print(msg4)\n",
    "print()\n",
    "print()\n",
    "\n",
    "invitation.insert(0,\"Eren\")\n",
    "invitation.insert(3,\"Naruto\")\n",
    "invitation.append(\"Yagami\")\n",
    "invitaiton\n",
    "msg1=invitation[0] + \" Your presence will lighten up party man!!! Join us!!\"\n",
    "msg2=invitation[1] + \" Come on PRINCE!! Join us on a party!!\"\n",
    "msg3=invitation[2] + \" !! We will be honoured by your presence <3! Join us\"\n",
    "msg5=invitation[3] + \" We will be pleasesed to have a dinner with you!!\"\n",
    "msg6=invitation[4] + \" Its an invitation for you, to have a dinner with us !!\"\n",
    "msg7=invitation[5] + \" We would love to have you at dinner!\"\n",
    "print (msg1)\n",
    "print (msg2)\n",
    "print (msg3)\n",
    "print (msg5)\n",
    "print (msg6)\n",
    "print (msg7)\n",
    "\n",
    "\n"
   ]
  },
  {
   "cell_type": "code",
   "execution_count": null,
   "metadata": {
    "collapsed": true
   },
   "outputs": [],
   "source": []
  },
  {
   "cell_type": "code",
   "execution_count": null,
   "metadata": {
    "collapsed": true
   },
   "outputs": [],
   "source": []
  },
  {
   "cell_type": "markdown",
   "metadata": {},
   "source": [
    "<h5> Q 5 : Here you have some data in variable below, your task is to make a list of specific word Surah then print the list and length of list</h5>\n"
   ]
  },
  {
   "cell_type": "code",
   "execution_count": 43,
   "metadata": {},
   "outputs": [
    {
     "name": "stdout",
     "output_type": "stream",
     "text": [
      "length of the list is 3\n",
      "['Sura', 'Sura', 'Sura']\n"
     ]
    }
   ],
   "source": [
    "data = \"Sura I Who believe in the Unseen, Sura Are steadfast in prayer, And spend Sura out of what We Have provided for them;\"\n",
    "Word = data.split()\n",
    "Surah = []\n",
    "for i in Word:\n",
    "    if i == 'Sura':\n",
    "        Surah.append(i)\n",
    "print(\"length of the list is\",len(Surah))\n",
    "print(Surah)\n"
   ]
  },
  {
   "cell_type": "code",
   "execution_count": null,
   "metadata": {
    "collapsed": true
   },
   "outputs": [],
   "source": []
  },
  {
   "cell_type": "code",
   "execution_count": null,
   "metadata": {
    "collapsed": true
   },
   "outputs": [],
   "source": []
  }
 ],
 "metadata": {
  "kernelspec": {
   "display_name": "Python 3",
   "language": "python",
   "name": "python3"
  },
  "language_info": {
   "codemirror_mode": {
    "name": "ipython",
    "version": 3
   },
   "file_extension": ".py",
   "mimetype": "text/x-python",
   "name": "python",
   "nbconvert_exporter": "python",
   "pygments_lexer": "ipython3",
   "version": "3.6.3"
  }
 },
 "nbformat": 4,
 "nbformat_minor": 2
}
